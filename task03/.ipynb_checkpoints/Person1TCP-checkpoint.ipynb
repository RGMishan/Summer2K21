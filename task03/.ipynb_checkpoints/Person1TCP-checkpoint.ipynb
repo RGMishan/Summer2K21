{
 "cells": [
  {
   "cell_type": "code",
   "execution_count": null,
   "metadata": {},
   "outputs": [],
   "source": [
    "import socket\n",
    "import cv2\n",
    "import numpy as np"
   ]
  },
  {
   "cell_type": "code",
   "execution_count": null,
   "metadata": {},
   "outputs": [],
   "source": [
    "#LISTENING SERVER\n",
    "s = socket.socket(socket.AF_INET,socket.SOCK_STREAM)"
   ]
  },
  {
   "cell_type": "code",
   "execution_count": null,
   "metadata": {},
   "outputs": [],
   "source": [
    "ip = \"0.0.0.0\"\n",
    "port = 1234\n",
    "\n",
    "s.bind((ip,port))"
   ]
  },
  {
   "cell_type": "code",
   "execution_count": null,
   "metadata": {},
   "outputs": [],
   "source": [
    "s.listen()"
   ]
  },
  {
   "cell_type": "code",
   "execution_count": null,
   "metadata": {},
   "outputs": [],
   "source": [
    "conn, _ =  s.accept()\n",
    "print(conn)\n",
    "data = s.recv(100)"
   ]
  },
  {
   "cell_type": "code",
   "execution_count": null,
   "metadata": {},
   "outputs": [],
   "source": [
    "print(_)"
   ]
  },
  {
   "cell_type": "code",
   "execution_count": null,
   "metadata": {},
   "outputs": [],
   "source": [
    "s.send(b\"i am server\")\n",
    "data = csession.recv(100)\n",
    "print(data)"
   ]
  },
  {
   "cell_type": "markdown",
   "metadata": {},
   "source": [
    "# TEST CLIENT"
   ]
  },
  {
   "cell_type": "code",
   "execution_count": null,
   "metadata": {},
   "outputs": [],
   "source": [
    "import socket\n",
    "import cv2\n",
    "import numpy as np\n",
    "import threading\n",
    "\n",
    "cap = cv2.VideoCapture(0)\n",
    "\n",
    "s1 = socket.socket(socket.AF_INET,socket.SOCK_STREAM)\n",
    "port1 = 2222\n",
    "ip1 = \"192.168.99.1\"\n",
    "s1.connect((ip1, port1))\n",
    "\n",
    "def receiving():\n",
    "    while True:\n",
    "        photo = np.frombuffer(s1.recv(1000000), dtype=np.uint8)\n",
    "        if len(photo) == 480 * 640 * 3:\n",
    "            img = photo.reshape(480, 640, 3)\n",
    "            cv2.imshow(\"CLIENT\", img )\n",
    "            if cv2.waitKey(1) == 13:\n",
    "                cv2.destroyAllWindows()\n",
    "                break\n",
    "\n",
    "def sending():\n",
    "    while True:\n",
    "        ret1, photo1 = cap.read()\n",
    "        #if ret is true then send else skip\n",
    "        if ret1:\n",
    "            s1.send(np.ndarray.tobytes(photo1))      \n",
    "\n",
    "x1= threading.Thread(target = sending)\n",
    "x2= threading.Thread(target = receiving)\n",
    "\n",
    "x1.start()\n",
    "x2.start()\n"
   ]
  },
  {
   "cell_type": "code",
   "execution_count": null,
   "metadata": {},
   "outputs": [],
   "source": []
  }
 ],
 "metadata": {
  "kernelspec": {
   "display_name": "Python 3",
   "language": "python",
   "name": "python3"
  },
  "language_info": {
   "codemirror_mode": {
    "name": "ipython",
    "version": 3
   },
   "file_extension": ".py",
   "mimetype": "text/x-python",
   "name": "python",
   "nbconvert_exporter": "python",
   "pygments_lexer": "ipython3",
   "version": "3.7.7"
  }
 },
 "nbformat": 4,
 "nbformat_minor": 4
}
