{
 "cells": [
  {
   "cell_type": "markdown",
   "metadata": {},
   "source": [
    "# Test Server"
   ]
  },
  {
   "cell_type": "code",
   "execution_count": null,
   "metadata": {},
   "outputs": [],
   "source": [
    "import socket\n",
    "import cv2\n",
    "import numpy as np\n",
    "import threading\n",
    "\n",
    "cap = cv2.VideoCapture(1)\n",
    "\n",
    "s2 = socket.socket(socket.AF_INET,socket.SOCK_STREAM)\n",
    "port2 = 9999\n",
    "ip2 = \"\"\n",
    "s2.bind((ip2, port2))\n",
    "s2.listen()\n",
    "c2, addr2 = s2.accept()\n",
    "\n",
    "def sending():\n",
    "    c2.send(b'connected')\n",
    "    while True:\n",
    "        # take photo\n",
    "        ret, photo = cap.read()\n",
    "        #if ret is true then send else skip\n",
    "        if ret:\n",
    "            c2.send(np.ndarray.tobytes(photo))\n",
    "\n",
    "sending()\n",
    "\n",
    "# def receiving():\n",
    "#     while True:\n",
    "#         photo = np.frombuffer(c2.recv(1000000), dtype=np.uint8)\n",
    "#         if len(photo) == 480 * 640 * 3:\n",
    "#             img = photo.reshape(480, 640, 3)\n",
    "#             cv2.imshow(\"SERVER\", img )\n",
    "#             if cv2.waitKey(1) == 13:\n",
    "#                 cv2.destroyAllWindows()\n",
    "#                 break    \n",
    "\n",
    "# x1= threading.Thread(target = receiving)\n",
    "# x2= threading.Thread(target = sending)\n",
    "\n",
    "# x1.start()\n",
    "# x2.start()"
   ]
  },
  {
   "cell_type": "code",
   "execution_count": null,
   "metadata": {},
   "outputs": [],
   "source": []
  }
 ],
 "metadata": {
  "kernelspec": {
   "display_name": "Python 3",
   "language": "python",
   "name": "python3"
  },
  "language_info": {
   "codemirror_mode": {
    "name": "ipython",
    "version": 3
   },
   "file_extension": ".py",
   "mimetype": "text/x-python",
   "name": "python",
   "nbconvert_exporter": "python",
   "pygments_lexer": "ipython3",
   "version": "3.7.7"
  }
 },
 "nbformat": 4,
 "nbformat_minor": 4
}
