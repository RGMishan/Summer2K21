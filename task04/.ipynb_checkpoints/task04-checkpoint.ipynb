{
 "cells": [
  {
   "cell_type": "markdown",
   "metadata": {},
   "source": [
    "## TASK 4.1\n",
    "### Create Image by Ourself Using Python Code and Open-CV"
   ]
  },
  {
   "cell_type": "code",
   "execution_count": null,
   "metadata": {},
   "outputs": [],
   "source": [
    "import cv2\n",
    "import numpy as np"
   ]
  },
  {
   "cell_type": "code",
   "execution_count": null,
   "metadata": {},
   "outputs": [],
   "source": [
    "#Creating a Numpy Zero Array for Image\n",
    "image = np.zeros((800,800,3), dtype=\"uint8\")\n",
    "cv2.imshow(\"An Empty Image\" , image)\n",
    "cv2.waitKey()\n",
    "cv2.destroyAllWindows()"
   ]
  },
  {
   "cell_type": "code",
   "execution_count": null,
   "metadata": {},
   "outputs": [],
   "source": [
    "#the face outline\n",
    "image = cv2.circle(image, (400,400), 350, (0,255,255), -1 )\n",
    "cv2.imshow(\"Face Outline\" , image)\n",
    "cv2.waitKey()\n",
    "cv2.destroyAllWindows()"
   ]
  },
  {
   "cell_type": "code",
   "execution_count": null,
   "metadata": {},
   "outputs": [],
   "source": [
    "# EYES\n",
    "#left eye white part\n",
    "image = cv2.circle(image, (270,270), 75, (255,255,255), -1)\n",
    "#left eye white part\n",
    "image = cv2.circle(image, (275,290), 30, (0,0,0,0), -1)\n",
    "#right eye white part\n",
    "image = cv2.circle(image, (550,270), 75, (255,255,255), -1)\n",
    "#right eye white part\n",
    "image = cv2.circle(image, (550,290), 30, (0,0,0,0), -1)\n",
    "cv2.imshow(\"Eyes Added\" , image)\n",
    "cv2.waitKey()\n",
    "cv2.destroyAllWindows()"
   ]
  },
  {
   "cell_type": "code",
   "execution_count": null,
   "metadata": {},
   "outputs": [],
   "source": [
    "#nose part\n",
    "p1 = (410, 360)\n",
    "p2 = (380, 420)\n",
    "p3 = (440, 420)\n",
    "\n",
    "cv2.line(image, p1, p2, (0, 0, 255), 3)\n",
    "cv2.line(image, p2, p3, (0, 0, 255), 3)\n",
    "cv2.line(image, p1, p3, (0, 0, 255), 3)\n",
    "cv2.imshow(\"Nose Added\" , image)\n",
    "cv2.waitKey()\n",
    "cv2.destroyAllWindows()"
   ]
  },
  {
   "cell_type": "code",
   "execution_count": null,
   "metadata": {},
   "outputs": [],
   "source": [
    "#moustache part\n",
    "image = cv2.ellipse(image, (415,450), (100,50), 0, 0, 90, (0,0,0), -1)\n",
    "image = cv2.ellipse(image, (410,450), (100,50), 0, 90, 180, (0,0,0), -1)\n",
    "cv2.imshow(\"Moustache\" , image)\n",
    "cv2.waitKey()\n",
    "cv2.destroyAllWindows()"
   ]
  },
  {
   "cell_type": "code",
   "execution_count": null,
   "metadata": {},
   "outputs": [],
   "source": [
    "#text in mouth\n",
    "font = cv2.FONT_HERSHEY_SIMPLEX\n",
    "fontScale = 1.5\n",
    "image = cv2.putText(image, 'SMILEE', (330,550), font, fontScale, (255, 0, 0), 2, cv2.LINE_AA)\n",
    "cv2.imshow(\"Final Face\" , image)\n",
    "cv2.waitKey()\n",
    "cv2.destroyAllWindows()"
   ]
  },
  {
   "cell_type": "code",
   "execution_count": null,
   "metadata": {},
   "outputs": [],
   "source": [
    "# #nose part\n",
    "# image = cv2.rectangle(image, (410,380), (410,381), (0,0,255), -1 )\n",
    "# i = 0\n",
    "# j = 0\n",
    "# while True:\n",
    "#     i = i+1\n",
    "#     image = cv2.rectangle(image, (410,380), (410 + i,381 + i), (0,0,255), -1 )\n",
    "#     if (i==50 and j==100):\n",
    "#         break"
   ]
  },
  {
   "cell_type": "markdown",
   "metadata": {},
   "source": [
    "## TASK 4.2\n",
    "### Take 2 image crop some part of both image and swap it."
   ]
  },
  {
   "cell_type": "code",
   "execution_count": null,
   "metadata": {},
   "outputs": [],
   "source": [
    "import cv2\n",
    "import numpy as np"
   ]
  },
  {
   "cell_type": "code",
   "execution_count": null,
   "metadata": {},
   "outputs": [],
   "source": [
    "#getting image 1\n",
    "emptyface = cv2.imread(\"emptyface.jpg\")\n",
    "cv2.imshow(\"Empty Face\" , emptyface)\n",
    "#cropping faceout\n",
    "cropemp = emptyface[26:26+455, 57:57+374]\n",
    "cv2.imshow(\"Cropped Empty Face\", cropemp)\n",
    "cv2.waitKey()\n",
    "cv2.destroyAllWindows()"
   ]
  },
  {
   "cell_type": "code",
   "execution_count": null,
   "metadata": {},
   "outputs": [],
   "source": [
    "#getting image 2\n",
    "manface = cv2.imread(\"face.jpg\")\n",
    "cv2.imshow(\"Man Face\" , manface)\n",
    "# cropping faceout\n",
    "manface = cv2.imread(\"face.jpg\")\n",
    "cropman = manface[26:26+455, 57:57+374]\n",
    "cv2.imshow(\"Cropped Man Face\", cropman)\n",
    "cv2.waitKey()\n",
    "cv2.destroyAllWindows()"
   ]
  },
  {
   "cell_type": "code",
   "execution_count": null,
   "metadata": {},
   "outputs": [],
   "source": [
    "#swapping 1\n",
    "emptyface = cv2.imread(\"emptyface.jpg\")\n",
    "emptyface[26:26+455, 57:57+374] = cropman\n",
    "cv2.imshow(\"Swap Face 1\", emptyface)\n",
    "cv2.waitKey()\n",
    "cv2.destroyAllWindows()"
   ]
  },
  {
   "cell_type": "code",
   "execution_count": null,
   "metadata": {},
   "outputs": [],
   "source": [
    "# swapping 2\n",
    "manface[26:26+455, 57:57+374] = cropemp\n",
    "cv2.imshow(\"Swap Face 2\", manface)\n",
    "cv2.waitKey()\n",
    "cv2.destroyAllWindows()"
   ]
  },
  {
   "cell_type": "markdown",
   "metadata": {},
   "source": [
    "## TASK 4.3\n",
    "### Take 2 Images and Combine it to form Single Image. "
   ]
  },
  {
   "cell_type": "code",
   "execution_count": null,
   "metadata": {},
   "outputs": [],
   "source": [
    "import cv2\n",
    "import numpy as np"
   ]
  },
  {
   "cell_type": "code",
   "execution_count": null,
   "metadata": {},
   "outputs": [],
   "source": [
    "# reading python and opencv logo and showing\n",
    "python = cv2.imread(\"python.jpg\")\n",
    "cv2.imshow(\"Python\", python)\n",
    "\n",
    "opencv = cv2.imread(\"opencv.jpg\")\n",
    "cv2.imshow(\"OpenCV\", opencv)\n",
    "\n",
    "cv2.waitKey()\n",
    "cv2.destroyAllWindows()"
   ]
  },
  {
   "cell_type": "code",
   "execution_count": null,
   "metadata": {},
   "outputs": [],
   "source": [
    "# Collage Up and Down\n",
    "cropv = np.vstack((python, opencv))\n",
    "cv2.imshow(\"CollageV\", cropv)\n",
    "\n",
    "\n",
    "#Collage Side by Side\n",
    "croph = np.hstack((python, opencv))\n",
    "cv2.imshow(\"CollageH\", croph)\n",
    "cv2.waitKey()\n",
    "cv2.destroyAllWindows()"
   ]
  },
  {
   "cell_type": "code",
   "execution_count": null,
   "metadata": {},
   "outputs": [],
   "source": [
    "#THANK YOU"
   ]
  }
 ],
 "metadata": {
  "kernelspec": {
   "display_name": "Python 3",
   "language": "python",
   "name": "python3"
  },
  "language_info": {
   "codemirror_mode": {
    "name": "ipython",
    "version": 3
   },
   "file_extension": ".py",
   "mimetype": "text/x-python",
   "name": "python",
   "nbconvert_exporter": "python",
   "pygments_lexer": "ipython3",
   "version": "3.7.7"
  }
 },
 "nbformat": 4,
 "nbformat_minor": 4
}
