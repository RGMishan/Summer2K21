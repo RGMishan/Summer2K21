{
 "cells": [
  {
   "cell_type": "code",
   "execution_count": null,
   "metadata": {},
   "outputs": [],
   "source": [
    "# import cv2\n",
    "# cap = cv2.VideoCapture(0)\n",
    "# ret, photo = cap.read()\n",
    "# cv2.imwrite(\"picture.jpg\", photo)\n",
    "\n",
    "# cv2.imshow(\"my pic\", photo )\n",
    "# cv2.waitKey()\n",
    "# cv2.destroyAllWindows()\n",
    "# facephoto = cv2.imread(\"face.jpg\")\n",
    "# cv2.imshow(\"facePic\", facephoto )\n",
    "# cv2.waitKey()\n",
    "# cv2.destroyAllWindows()\n",
    "# facephoto.shape"
   ]
  },
  {
   "cell_type": "markdown",
   "metadata": {},
   "source": [
    "## TASK 4.1\n",
    "### Create image by yourself Using Python Code"
   ]
  },
  {
   "cell_type": "code",
   "execution_count": null,
   "metadata": {},
   "outputs": [],
   "source": [
    "import cv2\n",
    "import numpy as np"
   ]
  },
  {
   "cell_type": "code",
   "execution_count": null,
   "metadata": {},
   "outputs": [],
   "source": [
    "image = np.zeros((800,800,3), dtype=\"uint8\",)\n",
    "\n",
    "#the face\n",
    "image = cv2.circle(image, (400,400), 350, (0,255,255), -1 )\n",
    "\n",
    "#left eye white part\n",
    "image = cv2.circle(image, (270,270), 75, (255,255,255), -1)\n",
    "#left eye white part\n",
    "image = cv2.circle(image, (275,290), 30, (0,0,0,0), -1)\n",
    "#right eye white part\n",
    "image = cv2.circle(image, (550,270), 75, (255,255,255), -1)\n",
    "#right eye white part\n",
    "image = cv2.circle(image, (550,290), 30, (0,0,0,0), -1)\n",
    "\n",
    "#nose part\n",
    "p1 = (410, 360)\n",
    "p2 = (380, 420)\n",
    "p3 = (440, 420)\n",
    "\n",
    "cv2.line(image, p1, p2, (0, 0, 255), 3)\n",
    "cv2.line(image, p2, p3, (0, 0, 255), 3)\n",
    "cv2.line(image, p1, p3, (0, 0, 255), 3)\n",
    "\n",
    "#moustace part\n",
    "image = cv2.ellipse(image, (415,450), (100,50), 0, 0, 90, (0,0,0), -1)\n",
    "image = cv2.ellipse(image, (410,450), (100,50), 0, 90, 180, (0,0,0), -1)\n",
    "\n",
    "#text in mouth\n",
    "font = cv2.FONT_HERSHEY_SIMPLEX\n",
    "fontScale = 1.5\n",
    "image = cv2.putText(image, 'SMILEE', (340,550), font, fontScale, (255, 0, 0), 2, cv2.LINE_AA)\n",
    "\n",
    "cv2.imshow(\"face\" , image)\n",
    "cv2.waitKey()\n",
    "cv2.destroyAllWindows()\n",
    "\n",
    "# #nose part\n",
    "# image = cv2.rectangle(image, (410,380), (410,381), (0,0,255), -1 )\n",
    "# i = 0\n",
    "# j = 0\n",
    "# while True:\n",
    "#     i = i+1\n",
    "#     j = j+2\n",
    "#     image = cv2.rectangle(image, (410-j,380-j), (410 + i,381 + i), (0,0,255), -1 )\n",
    "#     if (i==50 and j==100):\n",
    "#         break"
   ]
  },
  {
   "cell_type": "markdown",
   "metadata": {},
   "source": [
    "## TASK 4.2\n",
    "### Take 2 image crop some part of both image and swap it."
   ]
  },
  {
   "cell_type": "code",
   "execution_count": 1,
   "metadata": {},
   "outputs": [],
   "source": [
    "import cv2\n",
    "import numpy as np\n",
    "\n",
    "#getting image 1\n",
    "emptyface = cv2.imread(\"emptyface.jpg\")\n",
    "cv2.imshow(\"Empty Face\" , emptyface)\n",
    "\n",
    "#cropping faceout\n",
    "cropemp = emptyface[26:26+455, 57:57+374]\n",
    "cv2.imshow(\"Cropped Empty Face\", cropemp)\n",
    "\n",
    "#getting image 2\n",
    "manface = cv2.imread(\"face.jpg\")\n",
    "cv2.imshow(\"Man Face\" , manface)\n",
    "\n",
    "# cropping faceout\n",
    "cropman = manface[26:26+455, 57:57+374]\n",
    "cv2.imshow(\"Cropped Man Face\", cropman)\n",
    "\n",
    "\n",
    "\n",
    "cv2.waitKey()\n",
    "cv2.destroyAllWindows()"
   ]
  },
  {
   "cell_type": "markdown",
   "metadata": {},
   "source": [
    "## TASK 4.3\n",
    "### Take 2 image and combine it to form single image. For example collage"
   ]
  },
  {
   "cell_type": "code",
   "execution_count": null,
   "metadata": {},
   "outputs": [],
   "source": []
  }
 ],
 "metadata": {
  "kernelspec": {
   "display_name": "Python 3",
   "language": "python",
   "name": "python3"
  },
  "language_info": {
   "codemirror_mode": {
    "name": "ipython",
    "version": 3
   },
   "file_extension": ".py",
   "mimetype": "text/x-python",
   "name": "python",
   "nbconvert_exporter": "python",
   "pygments_lexer": "ipython3",
   "version": "3.7.7"
  }
 },
 "nbformat": 4,
 "nbformat_minor": 4
}
